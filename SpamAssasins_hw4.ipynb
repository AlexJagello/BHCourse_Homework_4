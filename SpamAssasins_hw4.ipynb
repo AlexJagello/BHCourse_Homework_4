{
 "cells": [
  {
   "cell_type": "code",
   "execution_count": 1,
   "id": "aa0bbf30",
   "metadata": {},
   "outputs": [],
   "source": [
    "#load dataset\r\n",
    "import numpy as np \r\n",
    "import pandas as pd \r\n",
    "import matplotlib.pyplot as plt\r\n",
    "import os\r\n",
    "from sklearn.model_selection import train_test_split\r\n",
    "\r\n",
    "dataset = pd.read_csv(\"spam_assassin.csv\")"
   ]
  },
  {
   "cell_type": "code",
   "execution_count": 2,
   "id": "e674f2d7",
   "metadata": {},
   "outputs": [
    {
     "data": {
      "text/html": [
       "<div>\n",
       "<style scoped>\n",
       "    .dataframe tbody tr th:only-of-type {\n",
       "        vertical-align: middle;\n",
       "    }\n",
       "\n",
       "    .dataframe tbody tr th {\n",
       "        vertical-align: top;\n",
       "    }\n",
       "\n",
       "    .dataframe thead th {\n",
       "        text-align: right;\n",
       "    }\n",
       "</style>\n",
       "<table border=\"1\" class=\"dataframe\">\n",
       "  <thead>\n",
       "    <tr style=\"text-align: right;\">\n",
       "      <th></th>\n",
       "      <th>text</th>\n",
       "      <th>target</th>\n",
       "    </tr>\n",
       "  </thead>\n",
       "  <tbody>\n",
       "    <tr>\n",
       "      <th>0</th>\n",
       "      <td>From ilug-admin@linux.ie Mon Jul 29 11:28:02 2...</td>\n",
       "      <td>0</td>\n",
       "    </tr>\n",
       "    <tr>\n",
       "      <th>1</th>\n",
       "      <td>From gort44@excite.com Mon Jun 24 17:54:21 200...</td>\n",
       "      <td>1</td>\n",
       "    </tr>\n",
       "    <tr>\n",
       "      <th>2</th>\n",
       "      <td>From fork-admin@xent.com Mon Jul 29 11:39:57 2...</td>\n",
       "      <td>1</td>\n",
       "    </tr>\n",
       "    <tr>\n",
       "      <th>3</th>\n",
       "      <td>From dcm123@btamail.net.cn Mon Jun 24 17:49:23...</td>\n",
       "      <td>1</td>\n",
       "    </tr>\n",
       "    <tr>\n",
       "      <th>4</th>\n",
       "      <td>From ilug-admin@linux.ie Mon Aug 19 11:02:47 2...</td>\n",
       "      <td>0</td>\n",
       "    </tr>\n",
       "  </tbody>\n",
       "</table>\n",
       "</div>"
      ],
      "text/plain": [
       "                                                text  target\n",
       "0  From ilug-admin@linux.ie Mon Jul 29 11:28:02 2...       0\n",
       "1  From gort44@excite.com Mon Jun 24 17:54:21 200...       1\n",
       "2  From fork-admin@xent.com Mon Jul 29 11:39:57 2...       1\n",
       "3  From dcm123@btamail.net.cn Mon Jun 24 17:49:23...       1\n",
       "4  From ilug-admin@linux.ie Mon Aug 19 11:02:47 2...       0"
      ]
     },
     "execution_count": 2,
     "metadata": {},
     "output_type": "execute_result"
    }
   ],
   "source": [
    "dataset.head()"
   ]
  },
  {
   "cell_type": "code",
   "execution_count": 3,
   "id": "68acc5d8",
   "metadata": {},
   "outputs": [
    {
     "name": "stdout",
     "output_type": "stream",
     "text": [
      "<class 'pandas.core.frame.DataFrame'>\n",
      "RangeIndex: 5796 entries, 0 to 5795\n",
      "Data columns (total 2 columns):\n",
      " #   Column  Non-Null Count  Dtype \n",
      "---  ------  --------------  ----- \n",
      " 0   text    5796 non-null   object\n",
      " 1   target  5796 non-null   int64 \n",
      "dtypes: int64(1), object(1)\n",
      "memory usage: 90.7+ KB\n"
     ]
    }
   ],
   "source": [
    "dataset.info()"
   ]
  },
  {
   "cell_type": "code",
   "execution_count": 4,
   "id": "f3a45928",
   "metadata": {},
   "outputs": [
    {
     "name": "stdout",
     "output_type": "stream",
     "text": [
      "Amount of spam and not spam items\n",
      "(1011, 2104)\n"
     ]
    }
   ],
   "source": [
    "dataAmount = 3115 #len(dataset.target)\r\n",
    "data, target = dataset.text[0:dataAmount], dataset.target[0:dataAmount]\r\n",
    "print(\"Amount of spam and not spam items\")\r\n",
    "print((sum(target), len(target) - sum(target)))"
   ]
  },
  {
   "cell_type": "code",
   "execution_count": 5,
   "id": "41e9d1e1",
   "metadata": {},
   "outputs": [],
   "source": [
    "#create extra features\r\n",
    "import re\r\n",
    "from sklearn.feature_extraction.text import TfidfVectorizer\r\n",
    "\r\n",
    "def addFeature(X, feature_to_add):\r\n",
    "    from scipy.sparse import csr_matrix, hstack\r\n",
    "    return hstack([X, csr_matrix(feature_to_add).T], 'csr')\r\n",
    "\r\n",
    "\r\n",
    "len_feature = [len(str) for str in data]\r\n",
    "digitsCount_feature = [len(re.findall('[0-9]', string)) for string in data]\r\n",
    "letterCount_feature = [len(re.findall('[A-z]', string)) for string in data]\r\n",
    "_Count_feature = [string.count(r'_') for string in data]\r\n",
    "dollarCount_feature = [string.count(r'$') for string in data]\r\n",
    "questionMarkCount_feature = [string.count(r'?') for string in data]\r\n",
    "exclamationMarkCount_feature = [string.count(r'!') for string in data]\r\n",
    "\r\n",
    "#vectorization \r\n",
    "tfidf_vectorizer = TfidfVectorizer()\r\n",
    "data_vectorized = tfidf_vectorizer.fit_transform(data)\r\n",
    "dataTransformed = addFeature(data_vectorized, [len_feature, digitsCount_feature,  letterCount_feature, _Count_feature, dollarCount_feature, questionMarkCount_feature, exclamationMarkCount_feature])"
   ]
  },
  {
   "cell_type": "code",
   "execution_count": 6,
   "id": "a374b67a",
   "metadata": {},
   "outputs": [],
   "source": [
    "# Devide data on train and test part\r\n",
    "X_train, X_test, y_train, y_test = train_test_split(dataTransformed, target, test_size=0.3, random_state=42)"
   ]
  },
  {
   "cell_type": "code",
   "execution_count": 7,
   "id": "c91e0e0d",
   "metadata": {},
   "outputs": [
    {
     "name": "stdout",
     "output_type": "stream",
     "text": [
      "720 1460\n",
      "1460 1460\n"
     ]
    }
   ],
   "source": [
    "#Removing class imbalance\r\n",
    "from imblearn.over_sampling import SMOTE\r\n",
    "\r\n",
    "smote = SMOTE(random_state=42)\r\n",
    "X_train_smote, y_train_smote = smote.fit_resample(X_train, y_train)\r\n",
    "\r\n",
    "print(sum(y_train), y_train.shape[0] - sum(y_train)) #amount iems marked as spam and as not spam\r\n",
    "print(sum(y_train_smote), y_train_smote.shape[0] - sum(y_train_smote))"
   ]
  },
  {
   "cell_type": "code",
   "execution_count": 8,
   "id": "8b27586a",
   "metadata": {},
   "outputs": [
    {
     "name": "stdout",
     "output_type": "stream",
     "text": [
      "Accuracy: 0.5240641711229946\n",
      "Classification Report:\n",
      "              precision    recall  f1-score   support\n",
      "\n",
      "           0       0.71      0.52      0.60       644\n",
      "           1       0.34      0.54      0.41       291\n",
      "\n",
      "    accuracy                           0.52       935\n",
      "   macro avg       0.52      0.53      0.51       935\n",
      "weighted avg       0.60      0.52      0.54       935\n",
      "\n",
      "Confusion Matrix:\n",
      "[[333 311]\n",
      " [134 157]]\n"
     ]
    }
   ],
   "source": [
    "#dummy Classifier\r",
    "from sklearn.dummy import DummyClassifier\n",
    "from sklearn.model_selection import train_test_split\n",
    "from sklearn.metrics import classification_report, accuracy_score, confusion_matrix\n",
    "\n",
    "\r\n",
    "\r\n",
    "clf = DummyClassifier(strategy=\"stratified\") \r\n",
    "clf.fit(X_train_smote, y_train_smote)\r\n",
    "\r\n",
    "y_pred = clf.predict(X_test)\r\n",
    "\r\n",
    "accuracy = accuracy_score(y_test, y_pred)\r\n",
    "report = classification_report(y_test, y_pred)\r\n",
    "\r\n",
    "print(f'Accuracy: {accuracy}')\r\n",
    "print('Classification Report:')\r\n",
    "print(report)\r\n",
    "print(\"Confusion Matrix:\")\r\n",
    "print(confusion_matrix(y_test, y_pred))"
   ]
  },
  {
   "cell_type": "code",
   "execution_count": 9,
   "id": "5ab9f8cb",
   "metadata": {},
   "outputs": [
    {
     "name": "stdout",
     "output_type": "stream",
     "text": [
      "Accuracy: 0.9850267379679144\n",
      "Classification Report:\n",
      "              precision    recall  f1-score   support\n",
      "\n",
      "           0       0.99      0.99      0.99       644\n",
      "           1       0.98      0.97      0.98       291\n",
      "\n",
      "    accuracy                           0.99       935\n",
      "   macro avg       0.98      0.98      0.98       935\n",
      "weighted avg       0.99      0.99      0.99       935\n",
      "\n",
      "Confusion Matrix:\n",
      "[[638   6]\n",
      " [  8 283]]\n"
     ]
    }
   ],
   "source": [
    "#Random Forest Classifier\r\n",
    "from sklearn.ensemble import RandomForestClassifier\r\n",
    "from sklearn.model_selection import train_test_split, cross_val_score\r\n",
    "\r\n",
    "clf = RandomForestClassifier(random_state=42)\r\n",
    "clf.fit(X_train_smote, y_train_smote)\r\n",
    "\r\n",
    "y_pred = clf.predict(X_test)\r\n",
    "\r\n",
    "accuracy = accuracy_score(y_test, y_pred)\r\n",
    "report = classification_report(y_test, y_pred)\r\n",
    "\r\n",
    "print(f'Accuracy: {accuracy}')\r\n",
    "print('Classification Report:')\r\n",
    "print(report)\r\n",
    "print(\"Confusion Matrix:\")\r\n",
    "print(confusion_matrix(y_test, y_pred))"
   ]
  },
  {
   "cell_type": "code",
   "execution_count": 10,
   "id": "ca35c4e1",
   "metadata": {},
   "outputs": [
    {
     "name": "stdout",
     "output_type": "stream",
     "text": [
      "Fitting 5 folds for each of 4 candidates, totalling 20 fits\n",
      "Best param: {'learning_rate': 0.25, 'max_depth': 3, 'n_estimators': 100}\n",
      "Best accuracy (CV): 0.991095890410959\n",
      "Accuracy: 0.9967914438502674\n",
      "Classification Report:\n",
      "              precision    recall  f1-score   support\n",
      "\n",
      "           0       1.00      1.00      1.00       644\n",
      "           1       0.99      1.00      0.99       291\n",
      "\n",
      "    accuracy                           1.00       935\n",
      "   macro avg       1.00      1.00      1.00       935\n",
      "weighted avg       1.00      1.00      1.00       935\n",
      "\n",
      "Confusion Matrix:\n",
      "[[642   2]\n",
      " [  1 290]]\n"
     ]
    }
   ],
   "source": [
    "#gradient boosting \r\n",
    "from sklearn.ensemble import GradientBoostingClassifier\r\n",
    "from sklearn.model_selection import train_test_split, GridSearchCV, cross_val_score\r\n",
    "\r\n",
    "clf = GradientBoostingClassifier(random_state = 42)\r\n",
    "\r\n",
    "param_grid = {\r\n",
    "    'n_estimators': [100],\r\n",
    "    'learning_rate': [0.1, 0.25],\r\n",
    "    'max_depth': [3, 10],\r\n",
    "}\r\n",
    "grid_search = GridSearchCV(\r\n",
    "    estimator=clf,\r\n",
    "    param_grid=param_grid,\r\n",
    "    cv=5,\r\n",
    "    scoring='accuracy',\r\n",
    "    n_jobs=-1,\r\n",
    "    verbose=1\r\n",
    ")\r\n",
    "grid_search.fit(X_train_smote, y_train_smote)\r\n",
    "\r\n",
    "print(\"Best param:\", grid_search.best_params_)\r\n",
    "print(\"Best accuracy (CV):\", grid_search.best_score_)\r\n",
    "\r\n",
    "best_clf = grid_search.best_estimator_\r\n",
    "y_pred = best_clf.predict(X_test)\r\n",
    "\r\n",
    "\r\n",
    "accuracy = accuracy_score(y_test, y_pred)\r\n",
    "report = classification_report(y_test, y_pred)\r\n",
    "\r\n",
    "print(f'Accuracy: {accuracy}')\r\n",
    "print('Classification Report:')\r\n",
    "print(report)\r\n",
    "print(\"Confusion Matrix:\")\r\n",
    "print(confusion_matrix(y_test, y_pred))"
   ]
  },
  {
   "cell_type": "code",
   "execution_count": 11,
   "id": "d623fc4d",
   "metadata": {
    "scrolled": true
   },
   "outputs": [
    {
     "name": "stdout",
     "output_type": "stream",
     "text": [
      "Accuracy: 0.9914438502673797\n",
      "Classification Report:\n",
      "              precision    recall  f1-score   support\n",
      "\n",
      "           0       1.00      0.99      0.99       644\n",
      "           1       0.98      0.99      0.99       291\n",
      "\n",
      "    accuracy                           0.99       935\n",
      "   macro avg       0.99      0.99      0.99       935\n",
      "weighted avg       0.99      0.99      0.99       935\n",
      "\n",
      "Confusion Matrix:\n",
      "[[638   6]\n",
      " [  2 289]]\n"
     ]
    }
   ],
   "source": [
    "#Cat Boost Classifier\r\n",
    "from catboost import CatBoostClassifier\r\n",
    "from sklearn.metrics import classification_report, accuracy_score, confusion_matrix\r\n",
    "\r\n",
    "clf = CatBoostClassifier(iterations=50, learning_rate=0.2, depth=3, loss_function='MultiClass', random_state=42, verbose=0)\r\n",
    "clf.fit(X_train_smote, y_train_smote)\r\n",
    "\r\n",
    "y_pred = clf.predict(X_test)\r\n",
    "\r\n",
    "accuracy = accuracy_score(y_test, y_pred)\r\n",
    "report = classification_report(y_test, y_pred)\r\n",
    "\r\n",
    "print(f'Accuracy: {accuracy}')\r\n",
    "print('Classification Report:')\r\n",
    "print(report)\r\n",
    "print(\"Confusion Matrix:\")\r\n",
    "print(confusion_matrix(y_test, y_pred))"
   ]
  },
  {
   "cell_type": "code",
   "execution_count": 12,
   "id": "5cde2d81",
   "metadata": {},
   "outputs": [
    {
     "name": "stderr",
     "output_type": "stream",
     "text": [
      "C:\\Users\\UserPc\\Desktop\\hw4bh\\BHCourse_Homework_4\\hw4_venv\\lib\\site-packages\\sklearn\\ensemble\\_weight_boosting.py:527: FutureWarning: The SAMME.R algorithm (the default) is deprecated and will be removed in 1.6. Use the SAMME algorithm to circumvent this warning.\n",
      "  warnings.warn(\n"
     ]
    },
    {
     "name": "stdout",
     "output_type": "stream",
     "text": [
      "Accuracy: 0.9957219251336898\n",
      "Classification Report:\n",
      "              precision    recall  f1-score   support\n",
      "\n",
      "           0       1.00      1.00      1.00       644\n",
      "           1       0.99      1.00      0.99       291\n",
      "\n",
      "    accuracy                           1.00       935\n",
      "   macro avg       0.99      1.00      1.00       935\n",
      "weighted avg       1.00      1.00      1.00       935\n",
      "\n",
      "Confusion Matrix:\n",
      "[[641   3]\n",
      " [  1 290]]\n"
     ]
    }
   ],
   "source": [
    "#ADA boost\r\n",
    "from sklearn.ensemble import AdaBoostClassifier\r\n",
    "from sklearn.metrics import classification_report, accuracy_score, confusion_matrix\r\n",
    "\r\n",
    "clf = AdaBoostClassifier(random_state=42)\r\n",
    "clf.fit(X_train_smote, y_train_smote)\r\n",
    "\r\n",
    "y_pred = clf.predict(X_test)\r\n",
    "\r\n",
    "accuracy = accuracy_score(y_test, y_pred)\r\n",
    "report = classification_report(y_test, y_pred)\r\n",
    "\r\n",
    "print(f'Accuracy: {accuracy}')\r\n",
    "print('Classification Report:')\r\n",
    "print(report)\r\n",
    "print(\"Confusion Matrix:\")\r\n",
    "print(confusion_matrix(y_test, y_pred))"
   ]
  },
  {
   "cell_type": "code",
   "execution_count": 13,
   "id": "268014f1",
   "metadata": {},
   "outputs": [
    {
     "name": "stdout",
     "output_type": "stream",
     "text": [
      "Accuracy: 0.9850267379679144\n",
      "Classification Report:\n",
      "              precision    recall  f1-score   support\n",
      "\n",
      "           0       0.98      1.00      0.99       644\n",
      "           1       0.99      0.96      0.98       291\n",
      "\n",
      "    accuracy                           0.99       935\n",
      "   macro avg       0.99      0.98      0.98       935\n",
      "weighted avg       0.99      0.99      0.98       935\n",
      "\n",
      "Confusion Matrix:\n",
      "[[641   3]\n",
      " [ 11 280]]\n"
     ]
    }
   ],
   "source": [
    "# Extra Trees Classifier\r\n",
    "from sklearn.ensemble import ExtraTreesClassifier\r\n",
    "from sklearn.metrics import classification_report, accuracy_score, confusion_matrix\r\n",
    "\r\n",
    "clf = ExtraTreesClassifier(random_state=42, max_depth=120, min_samples_split=2, min_samples_leaf=1, class_weight='balanced')\r\n",
    "#берем данные с дисбалансом классов. Метод подходит для набора данных с дисбалансом\r\n",
    "clf.fit(X_train, y_train)\r\n",
    "\r\n",
    "y_pred = clf.predict(X_test)\r\n",
    "\r\n",
    "accuracy = accuracy_score(y_test, y_pred)\r\n",
    "report = classification_report(y_test, y_pred)\r\n",
    "\r\n",
    "print(f'Accuracy: {accuracy}')\r\n",
    "print('Classification Report:')\r\n",
    "print(report)\r\n",
    "print(\"Confusion Matrix:\")\r\n",
    "print(confusion_matrix(y_test, y_pred))"
   ]
  },
  {
   "cell_type": "code",
   "execution_count": 14,
   "id": "9789b5dd",
   "metadata": {},
   "outputs": [
    {
     "name": "stderr",
     "output_type": "stream",
     "text": [
      "C:\\Users\\UserPc\\Desktop\\hw4bh\\BHCourse_Homework_4\\hw4_venv\\lib\\site-packages\\sklearn\\discriminant_analysis.py:947: UserWarning: Variables are collinear\n",
      "  warnings.warn(\"Variables are collinear\")\n"
     ]
    },
    {
     "name": "stdout",
     "output_type": "stream",
     "text": [
      "Accuracy: 0.34010695187165774\n",
      "Classification Report:\n",
      "              precision    recall  f1-score   support\n",
      "\n",
      "           0       1.00      0.04      0.08       644\n",
      "           1       0.32      1.00      0.49       291\n",
      "\n",
      "    accuracy                           0.34       935\n",
      "   macro avg       0.66      0.52      0.28       935\n",
      "weighted avg       0.79      0.34      0.21       935\n",
      "\n"
     ]
    }
   ],
   "source": [
    "#Квадратичный дискриминантный анализ. Смысла нет, но я попробовал\r\n",
    "from sklearn.discriminant_analysis import QuadraticDiscriminantAnalysis\r\n",
    "\r\n",
    "clf = QuadraticDiscriminantAnalysis()\r\n",
    "clf.fit(X_train_smote.toarray(), y_train_smote)\r\n",
    "\r\n",
    "y_pred = clf.predict(X_test.toarray())\r\n",
    "\r\n",
    "accuracy = accuracy_score(y_test, y_pred)\r\n",
    "report = classification_report(y_test, y_pred)\r\n",
    "\r\n",
    "print(f'Accuracy: {accuracy}')\r\n",
    "print('Classification Report:')\r\n",
    "print(report)"
   ]
  },
  {
   "cell_type": "code",
   "execution_count": 15,
   "id": "bc8a98b8",
   "metadata": {},
   "outputs": [
    {
     "name": "stdout",
     "output_type": "stream",
     "text": [
      "[LightGBM] [Info] Number of positive: 1460, number of negative: 1460\n",
      "[LightGBM] [Info] Auto-choosing col-wise multi-threading, the overhead of testing was 0.059082 seconds.\n",
      "You can set `force_col_wise=true` to remove the overhead.\n",
      "[LightGBM] [Info] Total Bins 198810\n",
      "[LightGBM] [Info] Number of data points in the train set: 2920, number of used features: 4607\n",
      "[LightGBM] [Info] [binary:BoostFromScore]: pavg=0.500000 -> initscore=0.000000\n",
      "Accuracy: 0.9957219251336898\n",
      "Classification Report:\n",
      "              precision    recall  f1-score   support\n",
      "\n",
      "           0       1.00      1.00      1.00       644\n",
      "           1       0.99      1.00      0.99       291\n",
      "\n",
      "    accuracy                           1.00       935\n",
      "   macro avg       0.99      1.00      1.00       935\n",
      "weighted avg       1.00      1.00      1.00       935\n",
      "\n",
      "Confusion Matrix:\n",
      "[[641   3]\n",
      " [  1 290]]\n"
     ]
    }
   ],
   "source": [
    "#Light GBM\r\n",
    "import lightgbm as lgb\r\n",
    "\r\n",
    "clf = lgb.LGBMClassifier(num_leaves=13, learning_rate=0.06, n_estimators=100)\r\n",
    "clf.fit(X_train_smote, y_train_smote)\r\n",
    "\r\n",
    "y_pred = clf.predict(X_test)\r\n",
    "\r\n",
    "accuracy = accuracy_score(y_test, y_pred)\r\n",
    "report = classification_report(y_test, y_pred)\r\n",
    "\r\n",
    "print(f'Accuracy: {accuracy}')\r\n",
    "print('Classification Report:')\r\n",
    "print(report)\r\n",
    "print(\"Confusion Matrix:\")\r\n",
    "print(confusion_matrix(y_test, y_pred))\r\n"
   ]
  },
  {
   "cell_type": "code",
   "execution_count": 16,
   "id": "6f7bcd8c",
   "metadata": {},
   "outputs": [
    {
     "name": "stdout",
     "output_type": "stream",
     "text": [
      "Accuracy: 0.8556149732620321\n",
      "Classification Report:\n",
      "              precision    recall  f1-score   support\n",
      "\n",
      "           0       0.89      0.90      0.90       644\n",
      "           1       0.77      0.76      0.77       291\n",
      "\n",
      "    accuracy                           0.86       935\n",
      "   macro avg       0.83      0.83      0.83       935\n",
      "weighted avg       0.85      0.86      0.86       935\n",
      "\n",
      "Confusion Matrix:\n",
      "[[579  65]\n",
      " [ 70 221]]\n"
     ]
    }
   ],
   "source": [
    "# SVC\r\n",
    "from sklearn.svm import SVC\r\n",
    "\r\n",
    "clf = SVC(kernel='linear', random_state=42)\r\n",
    "clf.fit(X_train_smote, y_train_smote)\r\n",
    "\r\n",
    "y_pred = clf.predict(X_test)\r\n",
    "\r\n",
    "accuracy = accuracy_score(y_test, y_pred)\r\n",
    "report = classification_report(y_test, y_pred)\r\n",
    "\r\n",
    "print(f'Accuracy: {accuracy}')\r\n",
    "print('Classification Report:')\r\n",
    "print(report)\r\n",
    "print(\"Confusion Matrix:\")\r\n",
    "print(confusion_matrix(y_test, y_pred))\r\n"
   ]
  },
  {
   "cell_type": "code",
   "execution_count": 17,
   "id": "a75bf7aa",
   "metadata": {},
   "outputs": [
    {
     "name": "stdout",
     "output_type": "stream",
     "text": [
      "Accuracy: 0.31122994652406416\n",
      "Classification Report:\n",
      "              precision    recall  f1-score   support\n",
      "\n",
      "           0       0.00      0.00      0.00       644\n",
      "           1       0.31      1.00      0.47       291\n",
      "\n",
      "    accuracy                           0.31       935\n",
      "   macro avg       0.16      0.50      0.24       935\n",
      "weighted avg       0.10      0.31      0.15       935\n",
      "\n",
      "Confusion Matrix:\n",
      "[[  0 644]\n",
      " [  0 291]]\n"
     ]
    },
    {
     "name": "stderr",
     "output_type": "stream",
     "text": [
      "C:\\Users\\UserPc\\Desktop\\hw4bh\\BHCourse_Homework_4\\hw4_venv\\lib\\site-packages\\sklearn\\metrics\\_classification.py:1531: UndefinedMetricWarning: Precision is ill-defined and being set to 0.0 in labels with no predicted samples. Use `zero_division` parameter to control this behavior.\n",
      "  _warn_prf(average, modifier, f\"{metric.capitalize()} is\", len(result))\n",
      "C:\\Users\\UserPc\\Desktop\\hw4bh\\BHCourse_Homework_4\\hw4_venv\\lib\\site-packages\\sklearn\\metrics\\_classification.py:1531: UndefinedMetricWarning: Precision is ill-defined and being set to 0.0 in labels with no predicted samples. Use `zero_division` parameter to control this behavior.\n",
      "  _warn_prf(average, modifier, f\"{metric.capitalize()} is\", len(result))\n",
      "C:\\Users\\UserPc\\Desktop\\hw4bh\\BHCourse_Homework_4\\hw4_venv\\lib\\site-packages\\sklearn\\metrics\\_classification.py:1531: UndefinedMetricWarning: Precision is ill-defined and being set to 0.0 in labels with no predicted samples. Use `zero_division` parameter to control this behavior.\n",
      "  _warn_prf(average, modifier, f\"{metric.capitalize()} is\", len(result))\n"
     ]
    }
   ],
   "source": [
    "#K neighbors classifier\r\n",
    "from sklearn.neighbors import KNeighborsClassifier\r\n",
    "from sklearn.preprocessing import StandardScaler\r\n",
    "\r\n",
    "scaler = StandardScaler(with_mean=False)\r\n",
    "dataScalered = scaler.fit_transform(dataTransformed)\r\n",
    "\r\n",
    "X_train_scalered, X_test_scalered, y_train_s, y_test_s = train_test_split(dataScalered, target, test_size=0.3, random_state=42)\r\n",
    "\r\n",
    "smote = SMOTE(random_state=42)\r\n",
    "X_train_scalered_smote, y_train_scalered_smote = smote.fit_resample(X_train_scalered, y_train_s)\r\n",
    "\r\n",
    "\r\n",
    "knn = KNeighborsClassifier(n_neighbors = 20)\r\n",
    "knn.fit(X_train_scalered_smote, y_train_scalered_smote)\r\n",
    "\r\n",
    "y_pred = knn.predict(X_test_scalered)\r\n",
    "\r\n",
    "accuracy = accuracy_score(y_test_s, y_pred)\r\n",
    "report = classification_report(y_test_s, y_pred)\r\n",
    "\r\n",
    "print(f'Accuracy: {accuracy}')\r\n",
    "print('Classification Report:')\r\n",
    "print(report)\r\n",
    "print(\"Confusion Matrix:\")\r\n",
    "print(confusion_matrix(y_test_s, y_pred))"
   ]
  },
  {
   "cell_type": "code",
   "execution_count": 18,
   "id": "4f6ac7d0",
   "metadata": {},
   "outputs": [
    {
     "name": "stdout",
     "output_type": "stream",
     "text": [
      "Accuracy: 0.9679144385026738\n",
      "Classification Report:\n",
      "              precision    recall  f1-score   support\n",
      "\n",
      "           0       0.97      0.98      0.98       644\n",
      "           1       0.96      0.94      0.95       291\n",
      "\n",
      "    accuracy                           0.97       935\n",
      "   macro avg       0.97      0.96      0.96       935\n",
      "weighted avg       0.97      0.97      0.97       935\n",
      "\n",
      "Confusion Matrix:\n",
      "[[632  12]\n",
      " [ 18 273]]\n"
     ]
    }
   ],
   "source": [
    "# DecisionTreeClassifier\r\n",
    "from sklearn.tree import DecisionTreeClassifier\r\n",
    "\r\n",
    "clf = DecisionTreeClassifier(max_depth=10, random_state=42)\r\n",
    "clf.fit(X_train_smote, y_train_smote)\r\n",
    "y_pred = clf.predict(X_test)\r\n",
    "\r\n",
    "accuracy = accuracy_score(y_test, y_pred)\r\n",
    "report = classification_report(y_test, y_pred)\r\n",
    "\r\n",
    "print(f'Accuracy: {accuracy}')\r\n",
    "print('Classification Report:')\r\n",
    "print(report)\r\n",
    "print(\"Confusion Matrix:\")\r\n",
    "print(confusion_matrix(y_test, y_pred))"
   ]
  },
  {
   "cell_type": "code",
   "execution_count": 19,
   "id": "73e14b05",
   "metadata": {},
   "outputs": [
    {
     "name": "stderr",
     "output_type": "stream",
     "text": [
      "C:\\Users\\UserPc\\Desktop\\hw4bh\\BHCourse_Homework_4\\hw4_venv\\lib\\site-packages\\xgboost\\core.py:158: UserWarning: [17:15:34] WARNING: C:\\buildkite-agent\\builds\\buildkite-windows-cpu-autoscaling-group-i-0015a694724fa8361-1\\xgboost\\xgboost-ci-windows\\src\\learner.cc:740: \n",
      "Parameters: { \"use_label_encoder\" } are not used.\n",
      "\n",
      "  warnings.warn(smsg, UserWarning)\n"
     ]
    },
    {
     "name": "stdout",
     "output_type": "stream",
     "text": [
      "Accuracy: 0.9967914438502674\n",
      "Classification Report:\n",
      "              precision    recall  f1-score   support\n",
      "\n",
      "           0       1.00      1.00      1.00       644\n",
      "           1       0.99      1.00      0.99       291\n",
      "\n",
      "    accuracy                           1.00       935\n",
      "   macro avg       0.99      1.00      1.00       935\n",
      "weighted avg       1.00      1.00      1.00       935\n",
      "\n",
      "Confusion Matrix:\n",
      "[[641   3]\n",
      " [  0 291]]\n"
     ]
    }
   ],
   "source": [
    "#Extreem gradient boosting\r\n",
    "import xgboost as xgb\r\n",
    "\r\n",
    "model = xgb.XGBClassifier(use_label_encoder=False, eval_metric='logloss')\r\n",
    "model.fit(X_train_smote, y_train_smote)\r\n",
    "\r\n",
    "# Оценка модели\r\n",
    "y_pred = model.predict(X_test)\r\n",
    "\r\n",
    "accuracy = accuracy_score(y_test, y_pred)\r\n",
    "report = classification_report(y_test, y_pred)\r\n",
    "\r\n",
    "print(f'Accuracy: {accuracy}')\r\n",
    "print('Classification Report:')\r\n",
    "print(report)\r\n",
    "print(\"Confusion Matrix:\")\r\n",
    "print(confusion_matrix(y_test, y_pred))"
   ]
  },
  {
   "cell_type": "code",
   "execution_count": 20,
   "id": "c56100a9",
   "metadata": {},
   "outputs": [
    {
     "name": "stdout",
     "output_type": "stream",
     "text": [
      "Accuracy: 0.9871657754010695\n",
      "Classification Report:\n",
      "              precision    recall  f1-score   support\n",
      "\n",
      "           0       0.99      0.99      0.99       644\n",
      "           1       0.99      0.97      0.98       291\n",
      "\n",
      "    accuracy                           0.99       935\n",
      "   macro avg       0.99      0.98      0.98       935\n",
      "weighted avg       0.99      0.99      0.99       935\n",
      "\n",
      "Confusion Matrix:\n",
      "[[640   4]\n",
      " [  8 283]]\n"
     ]
    }
   ],
   "source": [
    "#Stacking\r\n",
    "from sklearn.ensemble import StackingClassifier\r\n",
    "from sklearn.linear_model import LogisticRegression\r\n",
    "\r\n",
    "base_classifiers = [\r\n",
    "    ('svm', SVC(probability=True)),\r\n",
    "    ('dt', DecisionTreeClassifier()),\r\n",
    "    ('ext', ExtraTreesClassifier())\r\n",
    "]\r\n",
    "\r\n",
    "meta_classifier = LogisticRegression()\r\n",
    "\r\n",
    "stack_model = StackingClassifier(estimators=base_classifiers, final_estimator=meta_classifier, cv=5)\r\n",
    "stack_model.fit(X_train_smote, y_train_smote)\r\n",
    "y_pred = stack_model.predict(X_test)\r\n",
    "\r\n",
    "accuracy = accuracy_score(y_test, y_pred)\r\n",
    "report = classification_report(y_test, y_pred)\r\n",
    "\r\n",
    "print(f'Accuracy: {accuracy}')\r\n",
    "print('Classification Report:')\r\n",
    "print(report)\r\n",
    "print(\"Confusion Matrix:\")\r\n",
    "print(confusion_matrix(y_test, y_pred))"
   ]
  },
  {
   "cell_type": "code",
   "execution_count": null,
   "id": "b2c3f8d9",
   "metadata": {},
   "outputs": [],
   "source": []
  }
 ],
 "metadata": {
  "kernelspec": {
   "display_name": "hw4_venv",
   "language": "python",
   "name": "hw4_venv"
  },
  "language_info": {
   "codemirror_mode": {
    "name": "ipython",
    "version": 3
   },
   "file_extension": ".py",
   "mimetype": "text/x-python",
   "name": "python",
   "nbconvert_exporter": "python",
   "pygments_lexer": "ipython3",
   "version": "3.10.11"
  }
 },
 "nbformat": 4,
 "nbformat_minor": 5
}
