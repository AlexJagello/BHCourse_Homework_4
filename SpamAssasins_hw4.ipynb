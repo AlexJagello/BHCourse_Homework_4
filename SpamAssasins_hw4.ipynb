{
 "cells": [
  {
   "cell_type": "code",
   "execution_count": 86,
   "id": "55c55156-63c0-4d4e-ae3b-d015b57e13b9",
   "metadata": {},
   "outputs": [],
   "source": [
    "import numpy as np \n",
    "import pandas as pd \n",
    "import matplotlib.pyplot as plt\n",
    "import os\n",
    "from sklearn.model_selection import train_test_split\n",
    "\n",
    "dataset = pd.read_csv(\"spam_assassin.csv\")"
   ]
  },
  {
   "cell_type": "code",
   "execution_count": 87,
   "id": "93ff338b-b47c-4cf1-b058-9c62734e8e77",
   "metadata": {},
   "outputs": [
    {
     "data": {
      "text/html": [
       "<div>\n",
       "<style scoped>\n",
       "    .dataframe tbody tr th:only-of-type {\n",
       "        vertical-align: middle;\n",
       "    }\n",
       "\n",
       "    .dataframe tbody tr th {\n",
       "        vertical-align: top;\n",
       "    }\n",
       "\n",
       "    .dataframe thead th {\n",
       "        text-align: right;\n",
       "    }\n",
       "</style>\n",
       "<table border=\"1\" class=\"dataframe\">\n",
       "  <thead>\n",
       "    <tr style=\"text-align: right;\">\n",
       "      <th></th>\n",
       "      <th>text</th>\n",
       "      <th>target</th>\n",
       "    </tr>\n",
       "  </thead>\n",
       "  <tbody>\n",
       "    <tr>\n",
       "      <th>0</th>\n",
       "      <td>From ilug-admin@linux.ie Mon Jul 29 11:28:02 2...</td>\n",
       "      <td>0</td>\n",
       "    </tr>\n",
       "    <tr>\n",
       "      <th>1</th>\n",
       "      <td>From gort44@excite.com Mon Jun 24 17:54:21 200...</td>\n",
       "      <td>1</td>\n",
       "    </tr>\n",
       "    <tr>\n",
       "      <th>2</th>\n",
       "      <td>From fork-admin@xent.com Mon Jul 29 11:39:57 2...</td>\n",
       "      <td>1</td>\n",
       "    </tr>\n",
       "    <tr>\n",
       "      <th>3</th>\n",
       "      <td>From dcm123@btamail.net.cn Mon Jun 24 17:49:23...</td>\n",
       "      <td>1</td>\n",
       "    </tr>\n",
       "    <tr>\n",
       "      <th>4</th>\n",
       "      <td>From ilug-admin@linux.ie Mon Aug 19 11:02:47 2...</td>\n",
       "      <td>0</td>\n",
       "    </tr>\n",
       "  </tbody>\n",
       "</table>\n",
       "</div>"
      ],
      "text/plain": [
       "                                                text  target\n",
       "0  From ilug-admin@linux.ie Mon Jul 29 11:28:02 2...       0\n",
       "1  From gort44@excite.com Mon Jun 24 17:54:21 200...       1\n",
       "2  From fork-admin@xent.com Mon Jul 29 11:39:57 2...       1\n",
       "3  From dcm123@btamail.net.cn Mon Jun 24 17:49:23...       1\n",
       "4  From ilug-admin@linux.ie Mon Aug 19 11:02:47 2...       0"
      ]
     },
     "execution_count": 87,
     "metadata": {},
     "output_type": "execute_result"
    }
   ],
   "source": [
    "dataset.head()"
   ]
  },
  {
   "cell_type": "code",
   "execution_count": 88,
   "id": "35ee8122-3837-4088-bd66-ea5777b1beb6",
   "metadata": {},
   "outputs": [
    {
     "name": "stdout",
     "output_type": "stream",
     "text": [
      "<class 'pandas.core.frame.DataFrame'>\n",
      "RangeIndex: 5796 entries, 0 to 5795\n",
      "Data columns (total 2 columns):\n",
      " #   Column  Non-Null Count  Dtype \n",
      "---  ------  --------------  ----- \n",
      " 0   text    5796 non-null   object\n",
      " 1   target  5796 non-null   int64 \n",
      "dtypes: int64(1), object(1)\n",
      "memory usage: 90.7+ KB\n"
     ]
    }
   ],
   "source": [
    "dataset.info()"
   ]
  },
  {
   "cell_type": "code",
   "execution_count": 89,
   "id": "f6735c24-8627-470b-9b19-ea6f51d5f890",
   "metadata": {},
   "outputs": [
    {
     "name": "stdout",
     "output_type": "stream",
     "text": [
      "Amount of spam and not spam items\n",
      "(1011, 2104)\n"
     ]
    }
   ],
   "source": [
    "dataAmount = 3115 #len(dataset.target)\n",
    "data, target = dataset.text[0:dataAmount], dataset.target[0:dataAmount]\n",
    "print(\"Amount of spam and not spam items\")\n",
    "print((sum(target), len(target) - sum(target)))"
   ]
  },
  {
   "cell_type": "code",
   "execution_count": 90,
   "id": "4f70a4bd-953b-4f20-af71-1b5ccf09e8c7",
   "metadata": {},
   "outputs": [],
   "source": [
    "#create extra features\n",
    "import re\n",
    "from sklearn.feature_extraction.text import TfidfVectorizer\n",
    "\n",
    "def addFeature(X, feature_to_add):\n",
    "    from scipy.sparse import csr_matrix, hstack\n",
    "    return hstack([X, csr_matrix(feature_to_add).T], 'csr')\n",
    "\n",
    "\n",
    "len_feature = [len(str) for str in data]\n",
    "digitsCount_feature = [len(re.findall('[0-9]', string)) for string in data]\n",
    "letterCount_feature = [len(re.findall('[A-z]', string)) for string in data]\n",
    "_Count_feature = [string.count(r'_') for string in data]\n",
    "dollarCount_feature = [string.count(r'$') for string in data]\n",
    "questionMarkCount_feature = [string.count(r'?') for string in data]\n",
    "exclamationMarkCount_feature = [string.count(r'!') for string in data]\n",
    "\n",
    "#vectorization \n",
    "tfidf_vectorizer = TfidfVectorizer()\n",
    "data_vectorized = tfidf_vectorizer.fit_transform(data)\n",
    "dataTransformed = addFeature(data_vectorized, [len_feature, digitsCount_feature,  letterCount_feature, _Count_feature, dollarCount_feature, questionMarkCount_feature, exclamationMarkCount_feature])"
   ]
  },
  {
   "cell_type": "code",
   "execution_count": 91,
   "id": "c49251f2-62fe-4aca-93e1-fb3334d73e61",
   "metadata": {},
   "outputs": [],
   "source": [
    "# Devide data on train and test part\n",
    "X_train, X_test, y_train, y_test = train_test_split(dataTransformed, target, test_size=0.3, random_state=42)"
   ]
  },
  {
   "cell_type": "code",
   "execution_count": 92,
   "id": "36ae9f20-7c76-4c1f-92e1-3b05e01abefa",
   "metadata": {},
   "outputs": [
    {
     "name": "stdout",
     "output_type": "stream",
     "text": [
      "720 1460\n",
      "1460 1460\n"
     ]
    }
   ],
   "source": [
    "#Removing class imbalance\n",
    "from imblearn.over_sampling import SMOTE\n",
    "\n",
    "smote = SMOTE(random_state=42)\n",
    "X_train_smote, y_train_smote = smote.fit_resample(X_train, y_train)\n",
    "\n",
    "print(sum(y_train), y_train.shape[0] - sum(y_train))\n",
    "print(sum(y_train_smote), y_train_smote.shape[0] - sum(y_train_smote))"
   ]
  },
  {
   "cell_type": "code",
   "execution_count": 93,
   "id": "c9cfac37-06ab-4227-8927-794bc8af5f16",
   "metadata": {},
   "outputs": [
    {
     "name": "stdout",
     "output_type": "stream",
     "text": [
      "Accuracy: 0.46951871657754013\n",
      "Classification Report:\n",
      "              precision    recall  f1-score   support\n",
      "\n",
      "           0       0.66      0.48      0.55       644\n",
      "           1       0.28      0.45      0.35       291\n",
      "\n",
      "    accuracy                           0.47       935\n",
      "   macro avg       0.47      0.47      0.45       935\n",
      "weighted avg       0.54      0.47      0.49       935\n",
      "\n",
      "Confusion Matrix:\n",
      "[[307 337]\n",
      " [159 132]]\n"
     ]
    }
   ],
   "source": [
    "#dummy Classifier\n",
    "from sklearn.dummy import DummyClassifier\n",
    "from sklearn.model_selection import train_test_split, GridSearchCV, cross_val_score\n",
    "\n",
    "clf = DummyClassifier(strategy=\"stratified\") \n",
    "clf.fit(X_train_smote, y_train_smote)\n",
    "\n",
    "y_pred = clf.predict(X_test)\n",
    "\n",
    "accuracy = accuracy_score(y_test, y_pred)\n",
    "report = classification_report(y_test, y_pred)\n",
    "\n",
    "print(f'Accuracy: {accuracy}')\n",
    "print('Classification Report:')\n",
    "print(report)\n",
    "print(\"Confusion Matrix:\")\n",
    "print(confusion_matrix(y_test, y_pred))"
   ]
  },
  {
   "cell_type": "code",
   "execution_count": 94,
   "id": "27c8a23d-16a0-4a15-87bf-dca4b4cee526",
   "metadata": {},
   "outputs": [
    {
     "name": "stdout",
     "output_type": "stream",
     "text": [
      "Accuracy: 0.9850267379679144\n",
      "Classification Report:\n",
      "              precision    recall  f1-score   support\n",
      "\n",
      "           0       0.99      0.99      0.99       644\n",
      "           1       0.98      0.97      0.98       291\n",
      "\n",
      "    accuracy                           0.99       935\n",
      "   macro avg       0.98      0.98      0.98       935\n",
      "weighted avg       0.99      0.99      0.99       935\n",
      "\n",
      "Confusion Matrix:\n",
      "[[638   6]\n",
      " [  8 283]]\n"
     ]
    }
   ],
   "source": [
    "#Random Forest Classifier\n",
    "from sklearn.ensemble import RandomForestClassifier\n",
    "from sklearn.model_selection import train_test_split, cross_val_score\n",
    "\n",
    "clf = RandomForestClassifier(random_state=42)\n",
    "clf.fit(X_train_smote, y_train_smote)\n",
    "\n",
    "y_pred = clf.predict(X_test)\n",
    "\n",
    "accuracy = accuracy_score(y_test, y_pred)\n",
    "report = classification_report(y_test, y_pred)\n",
    "\n",
    "print(f'Accuracy: {accuracy}')\n",
    "print('Classification Report:')\n",
    "print(report)\n",
    "print(\"Confusion Matrix:\")\n",
    "print(confusion_matrix(y_test, y_pred))"
   ]
  },
  {
   "cell_type": "code",
   "execution_count": 95,
   "id": "9032d30f-e433-45cb-991c-2a75f7b67392",
   "metadata": {},
   "outputs": [
    {
     "name": "stdout",
     "output_type": "stream",
     "text": [
      "Fitting 5 folds for each of 4 candidates, totalling 20 fits\n",
      "Best param: {'learning_rate': 0.25, 'max_depth': 3, 'n_estimators': 100}\n",
      "Best accuracy (CV): 0.991095890410959\n",
      "Accuracy: 0.9967914438502674\n",
      "Classification Report:\n",
      "              precision    recall  f1-score   support\n",
      "\n",
      "           0       1.00      1.00      1.00       644\n",
      "           1       0.99      1.00      0.99       291\n",
      "\n",
      "    accuracy                           1.00       935\n",
      "   macro avg       1.00      1.00      1.00       935\n",
      "weighted avg       1.00      1.00      1.00       935\n",
      "\n",
      "Confusion Matrix:\n",
      "[[642   2]\n",
      " [  1 290]]\n"
     ]
    }
   ],
   "source": [
    "#gradient boosting \n",
    "from sklearn.ensemble import GradientBoostingClassifier\n",
    "from sklearn.model_selection import train_test_split, GridSearchCV, cross_val_score\n",
    "\n",
    "clf = GradientBoostingClassifier(random_state = 42)\n",
    "\n",
    "param_grid = {\n",
    "    'n_estimators': [100],\n",
    "    'learning_rate': [0.1, 0.25],\n",
    "    'max_depth': [3, 10],\n",
    "}\n",
    "grid_search = GridSearchCV(\n",
    "    estimator=clf,\n",
    "    param_grid=param_grid,\n",
    "    cv=5,\n",
    "    scoring='accuracy',\n",
    "    n_jobs=-1,\n",
    "    verbose=1\n",
    ")\n",
    "grid_search.fit(X_train_smote, y_train_smote)\n",
    "\n",
    "print(\"Best param:\", grid_search.best_params_)\n",
    "print(\"Best accuracy (CV):\", grid_search.best_score_)\n",
    "\n",
    "best_clf = grid_search.best_estimator_\n",
    "y_pred = best_clf.predict(X_test)\n",
    "\n",
    "\n",
    "accuracy = accuracy_score(y_test, y_pred)\n",
    "report = classification_report(y_test, y_pred)\n",
    "\n",
    "print(f'Accuracy: {accuracy}')\n",
    "print('Classification Report:')\n",
    "print(report)\n",
    "print(\"Confusion Matrix:\")\n",
    "print(confusion_matrix(y_test, y_pred))"
   ]
  },
  {
   "cell_type": "code",
   "execution_count": 96,
   "id": "f3de6e4e-a0a0-4cca-af13-004e2c597fd6",
   "metadata": {
    "scrolled": true
   },
   "outputs": [
    {
     "name": "stdout",
     "output_type": "stream",
     "text": [
      "Accuracy: 0.9914438502673797\n",
      "Classification Report:\n",
      "              precision    recall  f1-score   support\n",
      "\n",
      "           0       1.00      0.99      0.99       644\n",
      "           1       0.98      0.99      0.99       291\n",
      "\n",
      "    accuracy                           0.99       935\n",
      "   macro avg       0.99      0.99      0.99       935\n",
      "weighted avg       0.99      0.99      0.99       935\n",
      "\n",
      "Confusion Matrix:\n",
      "[[638   6]\n",
      " [  2 289]]\n"
     ]
    }
   ],
   "source": [
    "#Cat Boost Classifier\n",
    "from catboost import CatBoostClassifier\n",
    "from sklearn.metrics import classification_report, accuracy_score, confusion_matrix\n",
    "\n",
    "clf = CatBoostClassifier(iterations=50, learning_rate=0.2, depth=3, loss_function='MultiClass', random_state=42, verbose=0)\n",
    "clf.fit(X_train_smote, y_train_smote)\n",
    "\n",
    "y_pred = clf.predict(X_test)\n",
    "\n",
    "accuracy = accuracy_score(y_test, y_pred)\n",
    "report = classification_report(y_test, y_pred)\n",
    "\n",
    "print(f'Accuracy: {accuracy}')\n",
    "print('Classification Report:')\n",
    "print(report)\n",
    "print(\"Confusion Matrix:\")\n",
    "print(confusion_matrix(y_test, y_pred))"
   ]
  },
  {
   "cell_type": "code",
   "execution_count": 97,
   "id": "7efab90b-8a22-4ca9-83f6-a6e69740b4fd",
   "metadata": {},
   "outputs": [
    {
     "name": "stderr",
     "output_type": "stream",
     "text": [
      "C:\\Users\\UserPc\\Desktop\\hw4bh\\BHCourse_Homework_4\\hw4_venv\\lib\\site-packages\\sklearn\\ensemble\\_weight_boosting.py:527: FutureWarning: The SAMME.R algorithm (the default) is deprecated and will be removed in 1.6. Use the SAMME algorithm to circumvent this warning.\n",
      "  warnings.warn(\n"
     ]
    },
    {
     "name": "stdout",
     "output_type": "stream",
     "text": [
      "Accuracy: 0.9957219251336898\n",
      "Classification Report:\n",
      "              precision    recall  f1-score   support\n",
      "\n",
      "           0       1.00      1.00      1.00       644\n",
      "           1       0.99      1.00      0.99       291\n",
      "\n",
      "    accuracy                           1.00       935\n",
      "   macro avg       0.99      1.00      1.00       935\n",
      "weighted avg       1.00      1.00      1.00       935\n",
      "\n",
      "Confusion Matrix:\n",
      "[[641   3]\n",
      " [  1 290]]\n"
     ]
    }
   ],
   "source": [
    "#ADA boost\n",
    "from sklearn.ensemble import AdaBoostClassifier\n",
    "from sklearn.metrics import classification_report, accuracy_score, confusion_matrix\n",
    "\n",
    "clf = AdaBoostClassifier(random_state=42)\n",
    "clf.fit(X_train_smote, y_train_smote)\n",
    "\n",
    "y_pred = clf.predict(X_test)\n",
    "\n",
    "accuracy = accuracy_score(y_test, y_pred)\n",
    "report = classification_report(y_test, y_pred)\n",
    "\n",
    "print(f'Accuracy: {accuracy}')\n",
    "print('Classification Report:')\n",
    "print(report)\n",
    "print(\"Confusion Matrix:\")\n",
    "print(confusion_matrix(y_test, y_pred))"
   ]
  },
  {
   "cell_type": "code",
   "execution_count": 98,
   "id": "690de18c-ee0a-4d92-b127-245c4fac7ce6",
   "metadata": {},
   "outputs": [
    {
     "name": "stdout",
     "output_type": "stream",
     "text": [
      "Accuracy: 0.9850267379679144\n",
      "Classification Report:\n",
      "              precision    recall  f1-score   support\n",
      "\n",
      "           0       0.98      1.00      0.99       644\n",
      "           1       0.99      0.96      0.98       291\n",
      "\n",
      "    accuracy                           0.99       935\n",
      "   macro avg       0.99      0.98      0.98       935\n",
      "weighted avg       0.99      0.99      0.98       935\n",
      "\n",
      "Confusion Matrix:\n",
      "[[641   3]\n",
      " [ 11 280]]\n"
     ]
    }
   ],
   "source": [
    "# Extra Trees Classifier\n",
    "from sklearn.ensemble import ExtraTreesClassifier\n",
    "from sklearn.metrics import classification_report, accuracy_score, confusion_matrix\n",
    "\n",
    "clf = ExtraTreesClassifier(random_state=42, max_depth=120, min_samples_split=2, min_samples_leaf=1, class_weight='balanced')\n",
    "#берем данные с дисбалансом классов. Метод подходит для набора данных с дисбалансом\n",
    "clf.fit(X_train, y_train)\n",
    "\n",
    "y_pred = clf.predict(X_test)\n",
    "\n",
    "accuracy = accuracy_score(y_test, y_pred)\n",
    "report = classification_report(y_test, y_pred)\n",
    "\n",
    "print(f'Accuracy: {accuracy}')\n",
    "print('Classification Report:')\n",
    "print(report)\n",
    "print(\"Confusion Matrix:\")\n",
    "print(confusion_matrix(y_test, y_pred))"
   ]
  },
  {
   "cell_type": "code",
   "execution_count": 99,
   "id": "65fda42d-4e6d-4a57-830e-1126e099917b",
   "metadata": {},
   "outputs": [
    {
     "name": "stderr",
     "output_type": "stream",
     "text": [
      "C:\\Users\\UserPc\\Desktop\\hw4bh\\BHCourse_Homework_4\\hw4_venv\\lib\\site-packages\\sklearn\\discriminant_analysis.py:947: UserWarning: Variables are collinear\n",
      "  warnings.warn(\"Variables are collinear\")\n"
     ]
    },
    {
     "name": "stdout",
     "output_type": "stream",
     "text": [
      "Accuracy: 0.34010695187165774\n",
      "Classification Report:\n",
      "              precision    recall  f1-score   support\n",
      "\n",
      "           0       1.00      0.04      0.08       644\n",
      "           1       0.32      1.00      0.49       291\n",
      "\n",
      "    accuracy                           0.34       935\n",
      "   macro avg       0.66      0.52      0.28       935\n",
      "weighted avg       0.79      0.34      0.21       935\n",
      "\n"
     ]
    }
   ],
   "source": [
    "#Квадратичный дискриминантный анализ. Смысла нет, но я попробовал\n",
    "from sklearn.discriminant_analysis import QuadraticDiscriminantAnalysis\n",
    "\n",
    "clf = QuadraticDiscriminantAnalysis()\n",
    "clf.fit(X_train_smote.toarray(), y_train_smote)\n",
    "\n",
    "y_pred = clf.predict(X_test.toarray())\n",
    "\n",
    "accuracy = accuracy_score(y_test, y_pred)\n",
    "report = classification_report(y_test, y_pred)\n",
    "\n",
    "print(f'Accuracy: {accuracy}')\n",
    "print('Classification Report:')\n",
    "print(report)"
   ]
  },
  {
   "cell_type": "code",
   "execution_count": 100,
   "id": "febfa3c6-8cd6-4d6a-a673-c8b49d6e21f8",
   "metadata": {},
   "outputs": [
    {
     "name": "stdout",
     "output_type": "stream",
     "text": [
      "[LightGBM] [Info] Number of positive: 1460, number of negative: 1460\n",
      "[LightGBM] [Info] Auto-choosing col-wise multi-threading, the overhead of testing was 0.050334 seconds.\n",
      "You can set `force_col_wise=true` to remove the overhead.\n",
      "[LightGBM] [Info] Total Bins 198810\n",
      "[LightGBM] [Info] Number of data points in the train set: 2920, number of used features: 4607\n",
      "[LightGBM] [Info] [binary:BoostFromScore]: pavg=0.500000 -> initscore=0.000000\n",
      "Accuracy: 0.9957219251336898\n",
      "Classification Report:\n",
      "              precision    recall  f1-score   support\n",
      "\n",
      "           0       1.00      1.00      1.00       644\n",
      "           1       0.99      1.00      0.99       291\n",
      "\n",
      "    accuracy                           1.00       935\n",
      "   macro avg       0.99      1.00      1.00       935\n",
      "weighted avg       1.00      1.00      1.00       935\n",
      "\n",
      "Confusion Matrix:\n",
      "[[641   3]\n",
      " [  1 290]]\n"
     ]
    }
   ],
   "source": [
    "#Light GBM\n",
    "import lightgbm as lgb\n",
    "\n",
    "clf = lgb.LGBMClassifier(num_leaves=13, learning_rate=0.06, n_estimators=100)\n",
    "clf.fit(X_train_smote, y_train_smote)\n",
    "\n",
    "y_pred = clf.predict(X_test)\n",
    "\n",
    "accuracy = accuracy_score(y_test, y_pred)\n",
    "report = classification_report(y_test, y_pred)\n",
    "\n",
    "print(f'Accuracy: {accuracy}')\n",
    "print('Classification Report:')\n",
    "print(report)\n",
    "print(\"Confusion Matrix:\")\n",
    "print(confusion_matrix(y_test, y_pred))\n"
   ]
  },
  {
   "cell_type": "code",
   "execution_count": 101,
   "id": "327a32f2-9f83-4f0c-a94b-db9cdb8e3328",
   "metadata": {},
   "outputs": [
    {
     "name": "stdout",
     "output_type": "stream",
     "text": [
      "Accuracy: 0.8556149732620321\n",
      "Classification Report:\n",
      "              precision    recall  f1-score   support\n",
      "\n",
      "           0       0.89      0.90      0.90       644\n",
      "           1       0.77      0.76      0.77       291\n",
      "\n",
      "    accuracy                           0.86       935\n",
      "   macro avg       0.83      0.83      0.83       935\n",
      "weighted avg       0.85      0.86      0.86       935\n",
      "\n",
      "Confusion Matrix:\n",
      "[[579  65]\n",
      " [ 70 221]]\n"
     ]
    }
   ],
   "source": [
    "# SVC\n",
    "from sklearn.svm import SVC\n",
    "\n",
    "clf = SVC(kernel='linear', random_state=42)\n",
    "clf.fit(X_train_smote, y_train_smote)\n",
    "\n",
    "y_pred = clf.predict(X_test)\n",
    "\n",
    "accuracy = accuracy_score(y_test, y_pred)\n",
    "report = classification_report(y_test, y_pred)\n",
    "\n",
    "print(f'Accuracy: {accuracy}')\n",
    "print('Classification Report:')\n",
    "print(report)\n",
    "print(\"Confusion Matrix:\")\n",
    "print(confusion_matrix(y_test, y_pred))\n"
   ]
  },
  {
   "cell_type": "code",
   "execution_count": 102,
   "id": "56785dee-ee6f-40f1-8bc6-7c2a7dfbd947",
   "metadata": {},
   "outputs": [
    {
     "name": "stdout",
     "output_type": "stream",
     "text": [
      "Accuracy: 0.31122994652406416\n",
      "Classification Report:\n",
      "              precision    recall  f1-score   support\n",
      "\n",
      "           0       0.00      0.00      0.00       644\n",
      "           1       0.31      1.00      0.47       291\n",
      "\n",
      "    accuracy                           0.31       935\n",
      "   macro avg       0.16      0.50      0.24       935\n",
      "weighted avg       0.10      0.31      0.15       935\n",
      "\n",
      "Confusion Matrix:\n",
      "[[  0 644]\n",
      " [  0 291]]\n"
     ]
    },
    {
     "name": "stderr",
     "output_type": "stream",
     "text": [
      "C:\\Users\\UserPc\\Desktop\\hw4bh\\BHCourse_Homework_4\\hw4_venv\\lib\\site-packages\\sklearn\\metrics\\_classification.py:1531: UndefinedMetricWarning: Precision is ill-defined and being set to 0.0 in labels with no predicted samples. Use `zero_division` parameter to control this behavior.\n",
      "  _warn_prf(average, modifier, f\"{metric.capitalize()} is\", len(result))\n",
      "C:\\Users\\UserPc\\Desktop\\hw4bh\\BHCourse_Homework_4\\hw4_venv\\lib\\site-packages\\sklearn\\metrics\\_classification.py:1531: UndefinedMetricWarning: Precision is ill-defined and being set to 0.0 in labels with no predicted samples. Use `zero_division` parameter to control this behavior.\n",
      "  _warn_prf(average, modifier, f\"{metric.capitalize()} is\", len(result))\n",
      "C:\\Users\\UserPc\\Desktop\\hw4bh\\BHCourse_Homework_4\\hw4_venv\\lib\\site-packages\\sklearn\\metrics\\_classification.py:1531: UndefinedMetricWarning: Precision is ill-defined and being set to 0.0 in labels with no predicted samples. Use `zero_division` parameter to control this behavior.\n",
      "  _warn_prf(average, modifier, f\"{metric.capitalize()} is\", len(result))\n"
     ]
    }
   ],
   "source": [
    "from sklearn.neighbors import KNeighborsClassifier\n",
    "from sklearn.preprocessing import StandardScaler\n",
    "\n",
    "scaler = StandardScaler(with_mean=False)\n",
    "dataScalered = scaler.fit_transform(dataTransformed)\n",
    "\n",
    "X_train_scalered, X_test_scalered, y_train_s, y_test_s = train_test_split(dataScalered, target, test_size=0.3, random_state=42)\n",
    "\n",
    "smote = SMOTE(random_state=42)\n",
    "X_train_scalered_smote, y_train_scalered_smote = smote.fit_resample(X_train_scalered, y_train_s)\n",
    "\n",
    "\n",
    "knn = KNeighborsClassifier(n_neighbors = 20)\n",
    "knn.fit(X_train_scalered_smote, y_train_scalered_smote)\n",
    "\n",
    "y_pred = knn.predict(X_test_scalered)\n",
    "\n",
    "accuracy = accuracy_score(y_test_s, y_pred)\n",
    "report = classification_report(y_test_s, y_pred)\n",
    "\n",
    "print(f'Accuracy: {accuracy}')\n",
    "print('Classification Report:')\n",
    "print(report)\n",
    "print(\"Confusion Matrix:\")\n",
    "print(confusion_matrix(y_test_s, y_pred))"
   ]
  },
  {
   "cell_type": "code",
   "execution_count": 103,
   "id": "4ca184cc-2aeb-4a82-ac86-27b37f565bde",
   "metadata": {},
   "outputs": [
    {
     "name": "stdout",
     "output_type": "stream",
     "text": [
      "Accuracy: 0.9679144385026738\n",
      "Classification Report:\n",
      "              precision    recall  f1-score   support\n",
      "\n",
      "           0       0.97      0.98      0.98       644\n",
      "           1       0.96      0.94      0.95       291\n",
      "\n",
      "    accuracy                           0.97       935\n",
      "   macro avg       0.97      0.96      0.96       935\n",
      "weighted avg       0.97      0.97      0.97       935\n",
      "\n",
      "Confusion Matrix:\n",
      "[[632  12]\n",
      " [ 18 273]]\n"
     ]
    }
   ],
   "source": [
    "# DecisionTreeClassifier\n",
    "from sklearn.tree import DecisionTreeClassifier\n",
    "\n",
    "clf = DecisionTreeClassifier(max_depth=10, random_state=42)\n",
    "clf.fit(X_train_smote, y_train_smote)\n",
    "y_pred = clf.predict(X_test)\n",
    "\n",
    "accuracy = accuracy_score(y_test, y_pred)\n",
    "report = classification_report(y_test, y_pred)\n",
    "\n",
    "print(f'Accuracy: {accuracy}')\n",
    "print('Classification Report:')\n",
    "print(report)\n",
    "print(\"Confusion Matrix:\")\n",
    "print(confusion_matrix(y_test, y_pred))"
   ]
  },
  {
   "cell_type": "code",
   "execution_count": 104,
   "id": "58f49d39-2f15-48bf-93c1-0e9e85ad674c",
   "metadata": {},
   "outputs": [
    {
     "name": "stderr",
     "output_type": "stream",
     "text": [
      "C:\\Users\\UserPc\\Desktop\\hw4bh\\BHCourse_Homework_4\\hw4_venv\\lib\\site-packages\\xgboost\\core.py:158: UserWarning: [15:57:25] WARNING: C:\\buildkite-agent\\builds\\buildkite-windows-cpu-autoscaling-group-i-0015a694724fa8361-1\\xgboost\\xgboost-ci-windows\\src\\learner.cc:740: \n",
      "Parameters: { \"use_label_encoder\" } are not used.\n",
      "\n",
      "  warnings.warn(smsg, UserWarning)\n"
     ]
    },
    {
     "name": "stdout",
     "output_type": "stream",
     "text": [
      "Accuracy: 0.9967914438502674\n",
      "Classification Report:\n",
      "              precision    recall  f1-score   support\n",
      "\n",
      "           0       1.00      1.00      1.00       644\n",
      "           1       0.99      1.00      0.99       291\n",
      "\n",
      "    accuracy                           1.00       935\n",
      "   macro avg       0.99      1.00      1.00       935\n",
      "weighted avg       1.00      1.00      1.00       935\n",
      "\n",
      "Confusion Matrix:\n",
      "[[641   3]\n",
      " [  0 291]]\n"
     ]
    }
   ],
   "source": [
    "import xgboost as xgb\n",
    "\n",
    "model = xgb.XGBClassifier(use_label_encoder=False, eval_metric='logloss')\n",
    "model.fit(X_train_smote, y_train_smote)\n",
    "\n",
    "# Оценка модели\n",
    "y_pred = model.predict(X_test)\n",
    "\n",
    "accuracy = accuracy_score(y_test, y_pred)\n",
    "report = classification_report(y_test, y_pred)\n",
    "\n",
    "print(f'Accuracy: {accuracy}')\n",
    "print('Classification Report:')\n",
    "print(report)\n",
    "print(\"Confusion Matrix:\")\n",
    "print(confusion_matrix(y_test, y_pred))"
   ]
  },
  {
   "cell_type": "code",
   "execution_count": null,
   "id": "f887ab59-afd5-4a7c-ac8b-95c678952efa",
   "metadata": {},
   "outputs": [],
   "source": [
    "from sklearn.ensemble import StackingClassifier\n",
    "from sklearn.linear_model import LogisticRegression\n",
    "\n",
    "base_classifiers = [\n",
    "    ('svm', SVC(probability=True)),\n",
    "    ('dt', DecisionTreeClassifier()),\n",
    "    ('ext', ExtraTreesClassifier())\n",
    "]\n",
    "\n",
    "meta_classifier = LogisticRegression()\n",
    "\n",
    "stack_model = StackingClassifier(estimators=base_classifiers, final_estimator=meta_classifier, cv=5)\n",
    "stack_model.fit(X_train_smote, y_train_smote)\n",
    "y_pred = stack_model.predict(X_test)\n",
    "\n",
    "accuracy = accuracy_score(y_test, y_pred)\n",
    "report = classification_report(y_test, y_pred)\n",
    "\n",
    "print(f'Accuracy: {accuracy}')\n",
    "print('Classification Report:')\n",
    "print(report)\n",
    "print(\"Confusion Matrix:\")\n",
    "print(confusion_matrix(y_test, y_pred))"
   ]
  },
  {
   "cell_type": "code",
   "execution_count": null,
   "id": "edf4a353-8084-4cee-aa84-92a4d9f5cf27",
   "metadata": {},
   "outputs": [],
   "source": []
  }
 ],
 "metadata": {
  "kernelspec": {
   "display_name": "hw4_venv",
   "language": "python",
   "name": "hw4_venv"
  },
  "language_info": {
   "codemirror_mode": {
    "name": "ipython",
    "version": 3
   },
   "file_extension": ".py",
   "mimetype": "text/x-python",
   "name": "python",
   "nbconvert_exporter": "python",
   "pygments_lexer": "ipython3",
   "version": "3.10.11"
  }
 },
 "nbformat": 4,
 "nbformat_minor": 5
}
